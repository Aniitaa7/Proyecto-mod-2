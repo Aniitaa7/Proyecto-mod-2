{
 "cells": [
  {
   "cell_type": "markdown",
   "metadata": {},
   "source": [
    "## *DOCUMENTACIÓN DEL PROCESO: EXTRACCIÓN DE DATOS DE APIs* ##"
   ]
  },
  {
   "cell_type": "markdown",
   "metadata": {},
   "source": [
    "En esta fase se cumplieron los criterios de aceptación:\n",
    "\n",
    "- Configurar y realizar solicitudes a la API de Spotify, MusicBrainz y last.fm para obtener datos iniciales.\n",
    "- Almacenar los datos extraídos en una estructura temporal para posteriormente insertarlos en la base de datos CSV.\n",
    "\n",
    "A continuación se describen los pasos que nos llevaron, desde el planteamiento de la idea inicial hasta la implementación final del código, para extraer los datos en las 3 APIS's."
   ]
  },
  {
   "cell_type": "markdown",
   "metadata": {},
   "source": [
    "## `Extracción de Datos desde la API de Spotify`"
   ]
  },
  {
   "cell_type": "markdown",
   "metadata": {},
   "source": [
    "Usamos la función load_dotenv(), de la biblioteca python-dotenv, para ocultar nuestra Key al subir el archivo a Git. "
   ]
  },
  {
   "cell_type": "markdown",
   "metadata": {},
   "source": [
    "# *PASO 1* #\n",
    "\n",
    "Revisamos y analizamos la documentación suministrada por Spotify for Developers y la librería Spotipy. Este paso incluyó lo siguiente:\n",
    "\n",
    "- Registro con la cuenta de Spotify para conseguir la API Key.\n",
    "- Creación de un dashboard para registrar el proyecto.\n",
    "- Posteriormente, en la documentación, navegar por el punto \"search for item\" donde observamos el endpoint (q, type, limit, offset) con el \"search\".\n",
    "- Importamos la librería Spotipy para poder autentificar los requests que nos daba la documentación de las APIs de Spotify (q, type, limit, offset)."
   ]
  },
  {
   "cell_type": "markdown",
   "metadata": {},
   "source": [
    "La búsqueda de los datos se realizó utilizando la autenticación de la librería Spotipy (sp) y .search que nos proporcionaba la documentación de la API de Spotify."
   ]
  },
  {
   "cell_type": "markdown",
   "metadata": {},
   "source": [
    "# *PASO 2* #\n",
    "\n",
    "Definimos la función \"extraccion_datos\" para buscar y recopilar datos de pistas musicales basadas en años (2021 y 2022) y géneros (pop, rock, indie y rap).\n",
    "\n",
    "- Inicialización: Se crea una lista vacía datos para almacenar los resultados de las búsquedas.\n",
    "\n",
    "- Iteración Anidada:\n",
    "\n",
    "Se recorren todos los años proporcionados en la lista años.\n",
    "Para cada año, se recorren todos los géneros en la lista generos.\n",
    "\n",
    "- Paginación:\n",
    "\n",
    "Se utiliza un bucle para gestionar la paginación de resultados, con un rango de 0 a 1000 en pasos de 50. Esto permite obtener hasta 1000 pistas por cada combinación de año y género (que es el máximo que ofrece el *offset*) .\n",
    "Se hace una llamada a la API usando sp.search para buscar pistas musicales que coincidan con el género y año especificados, y se limitan los resultados a 50 por llamada.\n",
    "\n",
    "- Almacenamiento: Los datos obtenidos se añaden a la lista \"datos\".\n"
   ]
  },
  {
   "cell_type": "markdown",
   "metadata": {},
   "source": [
    "# *PASO 3* #\n",
    "\n",
    "Definimos la función \"filtrado_datos\" para organizar y filtrar los datos de canciones,  para extraer información relevante.\n",
    "\n",
    "- Inicialización: Se crea un diccionario datos_filtrados con listas vacías para almacenar información como artista, tipo, título de canción, nombre del álbum, año y género.\n",
    "\n",
    "- Iteración:\n",
    "\n",
    "Se recorre cada elemento en datos, que contiene información sobre canciones. Para cada una de éstas, se extraen y almacenan los datos necesarios (artista, tipo, título, álbum y año de lanzamiento).\n",
    " \n",
    "- Género:\n",
    "\n",
    "Se verifica si cada género de la lista generos está presente en el campo 'href' de los datos. Si hay coincidencia, se añade el género al diccionario.\n",
    "\n",
    "- Creación de DataFrame: Se convierte el diccionario datos_filtrados en un DataFrame.\n",
    "\n",
    "- Exportación a CSV: El DataFrame se guarda como 'spotify_df_concatenado.csv' para usarlo en la fase posterior.\n",
    "\n",
    "- Lista de Artistas Únicos:\n",
    "\n",
    "Usamos el CSV creado previamente, para obtener una lista de artistas únicos.\n",
    "Esta lista se convierte en un DataFrame y se guarda como 'lista_artistas_spotify.csv' para futuras extracciones.\n",
    "Retorno: La función devuelve el DataFrame con los datos filtrados."
   ]
  },
  {
   "cell_type": "markdown",
   "metadata": {},
   "source": [
    "--------------------"
   ]
  },
  {
   "cell_type": "markdown",
   "metadata": {},
   "source": [
    "## `Extracción de detalles de artistas con la API de MusicBrainz`"
   ]
  },
  {
   "cell_type": "markdown",
   "metadata": {},
   "source": [
    "# *PASO 1* #\n",
    "A través de la documentación consultada en la Api de MusicBrainz, construimos la URL para realizar una consulta. La consulta incluye el nombre del artista y especifica que la respuesta debe estar en formato JSON.\n",
    "\n",
    "\"url = f'https://musicbrainz.org/ws/2/artist/?query={artista}&fmt=json'\"\n"
   ]
  },
  {
   "cell_type": "markdown",
   "metadata": {},
   "source": [
    "# *PASO 2* #\n",
    "\n",
    "Definimos una función llamada extraccion_datos, este recibe un argumento lista_csv.\n",
    "\n",
    "- Se inicializa una lista vacía llamada datos_artistas, que se usará para almacenar la información de los artistas obtenida de la API.\n",
    "- Utiliza pandas para leer el archivo CSV obtenido de la fase anterior, de Spotipy y cargarlo en un DataFrame llamado df_lista_artistas. \n",
    "- Se crea una lista llamada artistas a partir de la columna '0' del DataFrame.\n",
    "- Se inicia un bucle for que itera sobre cada nombre de artista en la lista artistas.\n",
    "- Se utiliza time.sleep(1) para pausar la ejecución del bucle durante 1 segundo entre cada llamada a la API. Lo usamos para evitar sobrecargar la API, limitando las llamadas a 1 por segundo.\n",
    "- Se realiza una llamada HTTP GET a la URL construida anteriormente, usando la librería requests. \n",
    "- Se extrae el contenido de la respuesta en formato JSON y se almacena en la variable datos.\n",
    "- Finalmente, la función devuelve la lista datos_artistas, que contiene los datos de todos los artistas consultados.\n",
    "\n"
   ]
  },
  {
   "cell_type": "markdown",
   "metadata": {},
   "source": [
    "# *PASO 3* #\n",
    "\n",
    "Creamos la función \"filtrado_datos\", que se encarga de limpiar y estructurar los datos de los artistas, a partir de un conjunto de datos (listado de diccionarios).\n",
    "\n",
    "Inicialización: Se crea un diccionario \"info_artistas\" para almacenar información clave de los artistas (nombre, tipo, país, fechas de actividad, etc.).\n",
    "\n",
    "Iniciamos una iteración:\n",
    "\n",
    "Se intenta extraer información de cada artista, manejando excepciones para evitar errores por datos faltantes:\n",
    "\n",
    "Nombre: Se obtiene el nombre del artista.\n",
    "Tipo: Se identifica si es un grupo o una persona.\n",
    "País y Área de origen: Se extraen estos datos.\n",
    "Fechas: Dependiendo del tipo (grupo o persona), se almacenan fechas de actividad o nacimiento/fallecimiento.\n",
    "\n",
    "Manejo de Errores: Se utilizan excepciones para agregar valores por defecto ('None' o '-') cuando los datos no están disponibles.\n",
    "\n",
    "Creación de DataFrame: Al final, se convierte el diccionario en un DataFrame de pandas y se guarda como un archivo CSV llamado 'musicbrainz_df_concatenado.csv'.\n",
    "\n",
    "Retorno: Devuelve el DataFrame con los datos limpios."
   ]
  },
  {
   "cell_type": "markdown",
   "metadata": {},
   "source": [
    "---------------------"
   ]
  },
  {
   "cell_type": "markdown",
   "metadata": {},
   "source": [
    "## `Extracción de detalles de artistas con la API de last.fm.`"
   ]
  },
  {
   "cell_type": "markdown",
   "metadata": {},
   "source": [
    "# *PASO 1* #\n",
    "Nos registramos en la página de API Last.fm, y así obtuvimos la ClaveApi (Key), la cual es requerida para hacer la llamada. \n",
    "\n",
    "Usamos la función load_dotenv(), de la biblioteca python-dotenv, para ocultar nuestra Key al subir el archivo a Git. "
   ]
  },
  {
   "cell_type": "markdown",
   "metadata": {},
   "source": [
    "# *PASO 2* #\n",
    "Revisamos y analizamos la documentación proporcionada por la Api, y allí obtuvimos la URL para hacer la llamada. Encontramos que La URL raíz de la API se encuentra en \"http://ws.audioscrobbler.com/2.0/\" y para realizar la busqueda de la información de los artistas por nombre, la completamos con la URL JSON: \"/2.0/?method=artist.search&artist=cher&api_key=SU_CLAVE_API&format=json\". Encontrar la URL correcta se nos hizo fácil, ya que la documentación no es compleja.\n",
    "\n",
    "La documentación también nos indicaba los parámetros: limit, page, artist y Api_key, sin embargo, solo artist y Api_key son los obligatorios y fue los que usamos en nuestra URL."
   ]
  },
  {
   "cell_type": "markdown",
   "metadata": {},
   "source": [
    "URL ESTRUCTURADA: http://ws.audioscrobbler.com/2.0/?method=artist.getinfo&artist={artista}&api_key={API_KEY}&format=json"
   ]
  },
  {
   "cell_type": "markdown",
   "metadata": {},
   "source": [
    "# *PASO 3* #\n",
    "\n",
    "Creamos una función \"extraccion_datos\" que tiene como objetivo extraer información sobre artistas desde esta API, utilizando el archivo CSV que obtuvimos de la fase de Spotipy.\n",
    "\n",
    "- Inicialización: Se crea una lista vacía \"datos_artistas\" para almacenar los datos obtenidos.\n",
    "\n",
    "- Lectura del CSV: Se lee el archivo CSV (que contiene nombres de artistas) y se convierte la primera columna en una lista llamada \"artistas\".\n",
    "\n",
    "- Iteración y Llamadas a la API:\n",
    "\n",
    "Se itera sobre cada artista en la lista, usando la URL previamente contruida.\n",
    "Se realiza la llamada a la API y se obtienen los datos en formato JSON.\n",
    "\n",
    "- Almacenamiento de Datos: Los datos obtenidos se añaden a la lista datos_artistas.\n",
    "\n",
    "- Retorno: Finalmente, la función devuelve la lista con todos los datos solicitados de los artistas."
   ]
  },
  {
   "cell_type": "markdown",
   "metadata": {},
   "source": [
    "# *PASO 4* #\n",
    "También creamos una función \"filtrado_datos\" que se encarga de limpiar y estructurar los datos, partir de una lista de diccionarios.\n",
    "\n",
    "- Inicialización: Se crea un diccionario \"info_artistas\", con listas vacías para almacenar campos específicos como nombre, biografía, oyentes, reproducciones y artistas similares.\n",
    "\n",
    "- Iteración: Se recorre cada elemento en datos para extraer información relevante:\n",
    "\n",
    "Se intenta obtener el nombre del artista, manejando excepciones si la clave no existe.\n",
    "Se extraen la biografía, el número de oyentes y el conteo de reproducciones.\n",
    "Para los artistas similares, se recopilan todos los nombres en una lista.\n",
    "Manejo de Errores: Se utilizan excepciones para ignorar errores en caso de que falten datos.\n",
    "\n",
    "- Creación de DataFrame: Se convierte el diccionario en un DataFrame de pandas y se guarda como un archivo CSV llamado 'lastfm_df_concatenado.csv'.\n",
    "\n",
    "- Retorno: La función devuelve el DataFrame con los datos limpios."
   ]
  }
 ],
 "metadata": {
  "kernelspec": {
   "display_name": "base",
   "language": "python",
   "name": "python3"
  },
  "language_info": {
   "codemirror_mode": {
    "name": "ipython",
    "version": 3
   },
   "file_extension": ".py",
   "mimetype": "text/x-python",
   "name": "python",
   "nbconvert_exporter": "python",
   "pygments_lexer": "ipython3",
   "version": "3.12.4"
  }
 },
 "nbformat": 4,
 "nbformat_minor": 2
}
