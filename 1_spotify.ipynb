{
 "cells": [
  {
   "cell_type": "markdown",
   "metadata": {},
   "source": [
    "# **Extracción y limpieza de datos en Spotify**"
   ]
  },
  {
   "cell_type": "code",
   "execution_count": 3,
   "metadata": {},
   "outputs": [],
   "source": [
    "# Hacemos las importaciones necesarias para que funcione spotipy y sean correctas las llamadas y autenticaciones\n",
    "import spotipy\n",
    "from spotipy import Spotify\n",
    "from spotipy.oauth2 import SpotifyClientCredentials\n",
    "# Para poder leer los ficheros csv y hacer DataFrames\n",
    "import pandas as pd\n",
    "# Para esconder la API key\n",
    "import os \n",
    "# Para esconder la API key\n",
    "from dotenv import load_dotenv"
   ]
  },
  {
   "cell_type": "code",
   "execution_count": 17,
   "metadata": {},
   "outputs": [],
   "source": [
    "# Leer el archivo env, que tiene las claves - pq las tenemos ocultas y lo guardamos en una variable\n",
    "load_dotenv()\n",
    "client_secret = os.getenv(\"api_key_spotify\")"
   ]
  },
  {
   "cell_type": "code",
   "execution_count": 18,
   "metadata": {},
   "outputs": [],
   "source": [
    "# URL para bajar los datos. Nos hemos dado de alta como cliente y nos han dado un id y una clave que tenemos oculta\n",
    "url = \"https://accounts.spotify.com/api/token\"\n",
    "\n",
    "client_id = \"54778a9f1fd7438d9c5710a72d0ca202\"\n",
    "\n",
    "# Autenticación\n",
    "\n",
    "client_credential = SpotifyClientCredentials(client_id=client_id, client_secret=client_secret)\n",
    "\n",
    "sp = spotipy.Spotify(auth_manager=client_credential)"
   ]
  },
  {
   "cell_type": "code",
   "execution_count": null,
   "metadata": {},
   "outputs": [],
   "source": [
    "# Hacemos la llamada mediante una función, ya que tenemos que pedir datos por género y año \n",
    "\n",
    "def extraccion_datos(años, generos):\n",
    "    datos = []\n",
    "    for año in años:\n",
    "        for genero in generos:\n",
    "            # con offset paginamos los resultados porque la API no deja sacar mas de 50 datos a la vez\n",
    "            for offset in range(0, 1000, 50): # Decidimos sacar 1000 datos por cada género y año \n",
    "                # Aquí hacemos la llamada y guardamos los datos en datos, para su posterior limpieza\n",
    "                datos.append(sp.search(q=f\"genre:{genero} year:{año}\", type='track', limit=50, offset=offset))\n",
    "    return datos"
   ]
  },
  {
   "cell_type": "code",
   "execution_count": null,
   "metadata": {},
   "outputs": [],
   "source": [
    "# Usamos listas para suministrar los parámetros a la función. Pudiendo elegir entre uno o varios años y entre uno o varios géneros\n",
    "años = ['2021', '2022']\n",
    "generos = ['pop', 'rock', 'indie', 'rap']"
   ]
  },
  {
   "cell_type": "code",
   "execution_count": null,
   "metadata": {},
   "outputs": [],
   "source": [
    "# Llamada a la función para la extracción de datos, con los parámetros que le hemos indicado en las tablas de arriba\n",
    "info = extraccion_datos(años, generos)"
   ]
  },
  {
   "cell_type": "code",
   "execution_count": null,
   "metadata": {},
   "outputs": [],
   "source": [
    "# Limpieza de datos\n",
    "  \n",
    "def filtrado_datos(datos, generos): \n",
    "    # Recogemos los datos filtrados en un diccionario con los campos exigidos\n",
    "    datos_filtrados = {\"artista\": [], \"tipo\": [], \"título_canción\": [], \"nombre_album\": [], \"año\": [], 'genre': []}\n",
    "    # Iteramos por cada elemento recogido en datos para sacar los resultados que necesitamos. \n",
    "        # Sabemos su número de datos haciendo un len\n",
    "    # Descubrimos que todos los datos que necesitábamos estaban en la lista  tracks-items , excepto género\n",
    "    for i in range(0, len(datos)): \n",
    "        for elemento in datos[i][\"tracks\"][\"items\"]:\n",
    "            datos_filtrados[\"artista\"].append(elemento[\"album\"][\"artists\"][0][\"name\"])\n",
    "            datos_filtrados[\"tipo\"].append(elemento['type'])\n",
    "            datos_filtrados[\"título_canción\"].append(elemento['name'])\n",
    "            datos_filtrados[\"nombre_album\"].append(elemento[\"album\"][\"name\"])\n",
    "            datos_filtrados[\"año\"].append(elemento[\"album\"][\"release_date\"][0:4])\n",
    "            # Al ser un dato que suministramos como parámetro en la función de extracción, solo se encuentra en 'href'\n",
    "            for genero in generos: # Buscamos el género comparádolo con la lista género usada como parámetro\n",
    "                # Iteramos por cada uno de esos géneros en datos y si encuentra coincidencia, lo agrega como valor al diccionario\n",
    "                if genero in datos[i][\"tracks\"]['href']:\n",
    "                    datos_filtrados['genre'].append(genero)\n",
    "    # Hacemos un DataFrame con los valores del diccionario creado con el filtrado de datos    \n",
    "    df_concatenado =pd.DataFrame(datos_filtrados)\n",
    "    # Y lo convertimos en un csv que posteriormente usaremos en la carga de datos en SQL\n",
    "    df_concatenado.to_csv('spotify_df_concatenado.csv', index=False)\n",
    "\n",
    "    # Aprovechamos este csv para hacer una lista de artistas únicos, \n",
    "    # que van a ser la base de las extracciones de las API's MusicBrainz y LastFM\n",
    "    df_spotify = pd.read_csv('spotify_df_concatenado.csv')\n",
    "    lista_artistas = list(df_spotify['artista'].unique())\n",
    "    # Hacemos un DataFrame con esta lista de artistas únicos\n",
    "    df_lista_artistas = pd.DataFrame(lista_artistas)\n",
    "    # Para poder hacer un DataFrame que podamos usar en las otras extracciones\n",
    "    df_lista_artistas.to_csv('lista_artistas_spotify.csv', index=False)\n",
    "\n",
    "    return df_concatenado"
   ]
  },
  {
   "cell_type": "code",
   "execution_count": 24,
   "metadata": {},
   "outputs": [],
   "source": [
    "# Llamamos a la función que filtra los datos\n",
    "data = filtrado_datos(info, generos)"
   ]
  },
  {
   "cell_type": "code",
   "execution_count": 25,
   "metadata": {},
   "outputs": [
    {
     "data": {
      "text/html": [
       "<div>\n",
       "<style scoped>\n",
       "    .dataframe tbody tr th:only-of-type {\n",
       "        vertical-align: middle;\n",
       "    }\n",
       "\n",
       "    .dataframe tbody tr th {\n",
       "        vertical-align: top;\n",
       "    }\n",
       "\n",
       "    .dataframe thead th {\n",
       "        text-align: right;\n",
       "    }\n",
       "</style>\n",
       "<table border=\"1\" class=\"dataframe\">\n",
       "  <thead>\n",
       "    <tr style=\"text-align: right;\">\n",
       "      <th></th>\n",
       "      <th>artista</th>\n",
       "      <th>tipo</th>\n",
       "      <th>título_canción</th>\n",
       "      <th>nombre_album</th>\n",
       "      <th>año</th>\n",
       "      <th>genre</th>\n",
       "    </tr>\n",
       "  </thead>\n",
       "  <tbody>\n",
       "    <tr>\n",
       "      <th>0</th>\n",
       "      <td>Tory Lanez</td>\n",
       "      <td>track</td>\n",
       "      <td>The Color Violet</td>\n",
       "      <td>Alone At Prom</td>\n",
       "      <td>2021</td>\n",
       "      <td>pop</td>\n",
       "    </tr>\n",
       "    <tr>\n",
       "      <th>1</th>\n",
       "      <td>PinkPantheress</td>\n",
       "      <td>track</td>\n",
       "      <td>Pain</td>\n",
       "      <td>to hell with it</td>\n",
       "      <td>2021</td>\n",
       "      <td>pop</td>\n",
       "    </tr>\n",
       "    <tr>\n",
       "      <th>2</th>\n",
       "      <td>Eyedress</td>\n",
       "      <td>track</td>\n",
       "      <td>Something About You</td>\n",
       "      <td>Mulholland Drive</td>\n",
       "      <td>2021</td>\n",
       "      <td>pop</td>\n",
       "    </tr>\n",
       "    <tr>\n",
       "      <th>3</th>\n",
       "      <td>Jordana</td>\n",
       "      <td>track</td>\n",
       "      <td>Better in the Dark</td>\n",
       "      <td>Summer's Over</td>\n",
       "      <td>2021</td>\n",
       "      <td>pop</td>\n",
       "    </tr>\n",
       "    <tr>\n",
       "      <th>4</th>\n",
       "      <td>Tate McRae</td>\n",
       "      <td>track</td>\n",
       "      <td>you broke me first</td>\n",
       "      <td>TOO YOUNG TO BE SAD</td>\n",
       "      <td>2021</td>\n",
       "      <td>pop</td>\n",
       "    </tr>\n",
       "  </tbody>\n",
       "</table>\n",
       "</div>"
      ],
      "text/plain": [
       "          artista   tipo       título_canción         nombre_album   año genre\n",
       "0      Tory Lanez  track     The Color Violet        Alone At Prom  2021   pop\n",
       "1  PinkPantheress  track                 Pain      to hell with it  2021   pop\n",
       "2        Eyedress  track  Something About You     Mulholland Drive  2021   pop\n",
       "3         Jordana  track   Better in the Dark        Summer's Over  2021   pop\n",
       "4      Tate McRae  track   you broke me first  TOO YOUNG TO BE SAD  2021   pop"
      ]
     },
     "execution_count": 25,
     "metadata": {},
     "output_type": "execute_result"
    }
   ],
   "source": [
    "data.head()"
   ]
  },
  {
   "cell_type": "markdown",
   "metadata": {},
   "source": [
    "Las siguientes extraciones son ejemplos de cómo las funciones sirven para cualquier año/s o artista/s que se le proporcione como parámetros"
   ]
  },
  {
   "cell_type": "code",
   "execution_count": 12,
   "metadata": {},
   "outputs": [],
   "source": [
    "info2 = extraccion_datos(['2020'], ['jazz'])"
   ]
  },
  {
   "cell_type": "code",
   "execution_count": 14,
   "metadata": {},
   "outputs": [],
   "source": [
    "data2 = filtrado_datos(info2, ['jazz'])"
   ]
  },
  {
   "cell_type": "code",
   "execution_count": 16,
   "metadata": {},
   "outputs": [
    {
     "data": {
      "text/html": [
       "<div>\n",
       "<style scoped>\n",
       "    .dataframe tbody tr th:only-of-type {\n",
       "        vertical-align: middle;\n",
       "    }\n",
       "\n",
       "    .dataframe tbody tr th {\n",
       "        vertical-align: top;\n",
       "    }\n",
       "\n",
       "    .dataframe thead th {\n",
       "        text-align: right;\n",
       "    }\n",
       "</style>\n",
       "<table border=\"1\" class=\"dataframe\">\n",
       "  <thead>\n",
       "    <tr style=\"text-align: right;\">\n",
       "      <th></th>\n",
       "      <th>artista</th>\n",
       "      <th>tipo</th>\n",
       "      <th>título_canción</th>\n",
       "      <th>nombre_album</th>\n",
       "      <th>año</th>\n",
       "      <th>genre</th>\n",
       "    </tr>\n",
       "  </thead>\n",
       "  <tbody>\n",
       "    <tr>\n",
       "      <th>0</th>\n",
       "      <td>Underground Canopy</td>\n",
       "      <td>track</td>\n",
       "      <td>Feelm Intermission</td>\n",
       "      <td>Bluestaeb and S. Fidelity Present Underground ...</td>\n",
       "      <td>2020</td>\n",
       "      <td>jazz</td>\n",
       "    </tr>\n",
       "    <tr>\n",
       "      <th>1</th>\n",
       "      <td>Vitamin String Quartet</td>\n",
       "      <td>track</td>\n",
       "      <td>Strange (feat. Hillary Smith)</td>\n",
       "      <td>Bridgerton (Covers from the Netflix Original S...</td>\n",
       "      <td>2020</td>\n",
       "      <td>jazz</td>\n",
       "    </tr>\n",
       "    <tr>\n",
       "      <th>2</th>\n",
       "      <td>Various Artists</td>\n",
       "      <td>track</td>\n",
       "      <td>It's All Right</td>\n",
       "      <td>Soul (Original Motion Picture Soundtrack)</td>\n",
       "      <td>2020</td>\n",
       "      <td>jazz</td>\n",
       "    </tr>\n",
       "    <tr>\n",
       "      <th>3</th>\n",
       "      <td>Tom Misch</td>\n",
       "      <td>track</td>\n",
       "      <td>Nightrider</td>\n",
       "      <td>What Kinda Music</td>\n",
       "      <td>2020</td>\n",
       "      <td>jazz</td>\n",
       "    </tr>\n",
       "    <tr>\n",
       "      <th>4</th>\n",
       "      <td>Erroll Garner</td>\n",
       "      <td>track</td>\n",
       "      <td>Misty - Remastered 2020</td>\n",
       "      <td>Gemini (Octave Remastered Series)</td>\n",
       "      <td>2020</td>\n",
       "      <td>jazz</td>\n",
       "    </tr>\n",
       "  </tbody>\n",
       "</table>\n",
       "</div>"
      ],
      "text/plain": [
       "                  artista   tipo                 título_canción  \\\n",
       "0      Underground Canopy  track             Feelm Intermission   \n",
       "1  Vitamin String Quartet  track  Strange (feat. Hillary Smith)   \n",
       "2         Various Artists  track                 It's All Right   \n",
       "3               Tom Misch  track                     Nightrider   \n",
       "4           Erroll Garner  track        Misty - Remastered 2020   \n",
       "\n",
       "                                        nombre_album   año genre  \n",
       "0  Bluestaeb and S. Fidelity Present Underground ...  2020  jazz  \n",
       "1  Bridgerton (Covers from the Netflix Original S...  2020  jazz  \n",
       "2          Soul (Original Motion Picture Soundtrack)  2020  jazz  \n",
       "3                                   What Kinda Music  2020  jazz  \n",
       "4                  Gemini (Octave Remastered Series)  2020  jazz  "
      ]
     },
     "execution_count": 16,
     "metadata": {},
     "output_type": "execute_result"
    }
   ],
   "source": [
    "data2.head()"
   ]
  }
 ],
 "metadata": {
  "kernelspec": {
   "display_name": "Python 3",
   "language": "python",
   "name": "python3"
  },
  "language_info": {
   "codemirror_mode": {
    "name": "ipython",
    "version": 3
   },
   "file_extension": ".py",
   "mimetype": "text/x-python",
   "name": "python",
   "nbconvert_exporter": "python",
   "pygments_lexer": "ipython3",
   "version": "3.8.10"
  }
 },
 "nbformat": 4,
 "nbformat_minor": 2
}
