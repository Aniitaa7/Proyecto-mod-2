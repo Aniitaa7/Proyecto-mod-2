{
 "cells": [
  {
   "cell_type": "markdown",
   "metadata": {},
   "source": [
    "# **Extracción y limpieza de datos en Spotify**"
   ]
  },
  {
   "cell_type": "code",
   "execution_count": 2,
   "metadata": {},
   "outputs": [
    {
     "name": "stdout",
     "output_type": "stream",
     "text": [
      "Requirement already satisfied: pandas in c:\\users\\usuario\\appdata\\local\\programs\\python\\python312\\lib\\site-packages (2.2.3)\n",
      "Requirement already satisfied: numpy>=1.26.0 in c:\\users\\usuario\\appdata\\local\\programs\\python\\python312\\lib\\site-packages (from pandas) (2.1.2)\n",
      "Requirement already satisfied: python-dateutil>=2.8.2 in c:\\users\\usuario\\appdata\\roaming\\python\\python312\\site-packages (from pandas) (2.9.0.post0)\n",
      "Requirement already satisfied: pytz>=2020.1 in c:\\users\\usuario\\appdata\\local\\programs\\python\\python312\\lib\\site-packages (from pandas) (2024.2)\n",
      "Requirement already satisfied: tzdata>=2022.7 in c:\\users\\usuario\\appdata\\local\\programs\\python\\python312\\lib\\site-packages (from pandas) (2024.2)\n",
      "Requirement already satisfied: six>=1.5 in c:\\users\\usuario\\appdata\\roaming\\python\\python312\\site-packages (from python-dateutil>=2.8.2->pandas) (1.16.0)\n"
     ]
    },
    {
     "name": "stderr",
     "output_type": "stream",
     "text": [
      "\n",
      "[notice] A new release of pip is available: 24.2 -> 24.3.1\n",
      "[notice] To update, run: python.exe -m pip install --upgrade pip\n"
     ]
    }
   ],
   "source": [
    "!pip install pandas"
   ]
  },
  {
   "cell_type": "code",
   "execution_count": 3,
   "metadata": {},
   "outputs": [],
   "source": [
    "# Hacemos las importaciones necesarias para que funcione spotipy y sean correctas las llamadas y autenticaciones\n",
    "import spotipy\n",
    "from spotipy import Spotify\n",
    "from spotipy.oauth2 import SpotifyClientCredentials\n",
    "# Para poder leer los ficheros csv y hacer DataFrames\n",
    "import pandas as pd\n",
    "# Para esconder la API key\n",
    "import os \n",
    "# Para esconder la API key\n",
    "from dotenv import load_dotenv"
   ]
  },
  {
   "cell_type": "code",
   "execution_count": 8,
   "metadata": {},
   "outputs": [],
   "source": [
    "# Leer el archivo env, que tiene las claves - pq las tenemos ocultas y lo guardamos en una variable\n",
    "load_dotenv()\n",
    "client_secret = os.getenv(\"api_key_spotify\")"
   ]
  },
  {
   "cell_type": "code",
   "execution_count": 9,
   "metadata": {},
   "outputs": [],
   "source": [
    "# URL para bajar los datos. Nos hemos dado de alta como cliente y nos han dado un id y una clave que tenemos oculta\n",
    "url = \"https://accounts.spotify.com/api/token\"\n",
    "\n",
    "client_id = \"54778a9f1fd7438d9c5710a72d0ca202\"\n",
    "\n",
    "# Autenticación\n",
    "\n",
    "client_credential = SpotifyClientCredentials(client_id=client_id, client_secret=client_secret)\n",
    "\n",
    "sp = spotipy.Spotify(auth_manager=client_credential)"
   ]
  },
  {
   "cell_type": "code",
   "execution_count": 10,
   "metadata": {},
   "outputs": [],
   "source": [
    "# Hacemos la llamada mediante una función, ya que tenemos que pedir datos por género y año \n",
    "\n",
    "def extraccion_datos(años, generos):\n",
    "    datos = []\n",
    "    for año in años:\n",
    "        for genero in generos:\n",
    "            # con offset paginamos los resultados porque la API no deja sacar mas de 50 datos a la vez\n",
    "            for offset in range(0, 1000, 50): # Decidimos sacar 1000 datos por cada género y año \n",
    "                # Aquí hacemos la llamada y guardamos los datos en datos, para su posterior limpieza\n",
    "                datos.append(sp.search(q=f\"genre:{genero} year:{año}\", type='track', limit=50, offset=offset))\n",
    "    return datos"
   ]
  },
  {
   "cell_type": "code",
   "execution_count": 11,
   "metadata": {},
   "outputs": [],
   "source": [
    "# Usamos listas para suministrar los parámetros a la función. Pudiendo elegir entre uno o varios años y entre uno o varios géneros\n",
    "años = ['2021', '2022']\n",
    "generos = ['pop', 'rock', 'indie', 'rap']"
   ]
  },
  {
   "cell_type": "code",
   "execution_count": 12,
   "metadata": {},
   "outputs": [],
   "source": [
    "# Llamada a la función para la extracción de datos, con los parámetros que le hemos indicado en las tablas de arriba\n",
    "info = extraccion_datos(años, generos)"
   ]
  },
  {
   "cell_type": "code",
   "execution_count": 13,
   "metadata": {},
   "outputs": [],
   "source": [
    "# Limpieza de datos\n",
    "  \n",
    "def filtrado_datos(datos, generos): \n",
    "    # Recogemos los datos filtrados en un diccionario con los campos exigidos\n",
    "    datos_filtrados = {\"artista\": [], \"tipo\": [], \"título_canción\": [], \"nombre_album\": [], \"año\": [], 'genre': []}\n",
    "    # Iteramos por cada elemento recogido en datos para sacar los resultados que necesitamos. \n",
    "        # Sabemos su número de datos haciendo un len\n",
    "    # Descubrimos que todos los datos que necesitábamos estaban en la lista  tracks-items , excepto género\n",
    "    for i in range(0, len(datos)): \n",
    "        for elemento in datos[i][\"tracks\"][\"items\"]:\n",
    "            datos_filtrados[\"artista\"].append(elemento[\"album\"][\"artists\"][0][\"name\"])\n",
    "            datos_filtrados[\"tipo\"].append(elemento['type'])\n",
    "            datos_filtrados[\"título_canción\"].append(elemento['name'])\n",
    "            datos_filtrados[\"nombre_album\"].append(elemento[\"album\"][\"name\"])\n",
    "            datos_filtrados[\"año\"].append(elemento[\"album\"][\"release_date\"][0:4])\n",
    "            # Al ser un dato que suministramos como parámetro en la función de extracción, solo se encuentra en 'href'\n",
    "            for genero in generos: # Buscamos el género comparádolo con la lista género usada como parámetro\n",
    "                # Iteramos por cada uno de esos géneros en datos y si encuentra coincidencia, lo agrega como valor al diccionario\n",
    "                if genero in datos[i][\"tracks\"]['href']:\n",
    "                    datos_filtrados['genre'].append(genero)\n",
    "    # Hacemos un DataFrame con los valores del diccionario creado con el filtrado de datos    \n",
    "    df_concatenado =pd.DataFrame(datos_filtrados)\n",
    "    # Y lo convertimos en un csv que posteriormente usaremos en la carga de datos en SQL\n",
    "    df_concatenado.to_csv('spotify_df_concatenado.csv', index=False)\n",
    "\n",
    "    # Aprovechamos este csv para hacer una lista de artistas únicos, \n",
    "    # que van a ser la base de las extracciones de las API's MusicBrainz y LastFM\n",
    "    df_spotify = pd.read_csv('spotify_df_concatenado.csv')\n",
    "    lista_artistas = list(df_spotify['artista'].unique())\n",
    "    # Hacemos un DataFrame con esta lista de artistas únicos\n",
    "    df_lista_artistas = pd.DataFrame(lista_artistas)\n",
    "    # Para poder hacer un DataFrame que podamos usar en las otras extracciones\n",
    "    df_lista_artistas.to_csv('lista_artistas_spotify.csv', index=False)\n",
    "\n",
    "    return df_concatenado"
   ]
  },
  {
   "cell_type": "code",
   "execution_count": 14,
   "metadata": {},
   "outputs": [],
   "source": [
    "# Llamamos a la función que filtra los datos\n",
    "data = filtrado_datos(info, generos)"
   ]
  },
  {
   "cell_type": "code",
   "execution_count": 15,
   "metadata": {},
   "outputs": [
    {
     "data": {
      "text/html": [
       "<div>\n",
       "<style scoped>\n",
       "    .dataframe tbody tr th:only-of-type {\n",
       "        vertical-align: middle;\n",
       "    }\n",
       "\n",
       "    .dataframe tbody tr th {\n",
       "        vertical-align: top;\n",
       "    }\n",
       "\n",
       "    .dataframe thead th {\n",
       "        text-align: right;\n",
       "    }\n",
       "</style>\n",
       "<table border=\"1\" class=\"dataframe\">\n",
       "  <thead>\n",
       "    <tr style=\"text-align: right;\">\n",
       "      <th></th>\n",
       "      <th>artista</th>\n",
       "      <th>tipo</th>\n",
       "      <th>título_canción</th>\n",
       "      <th>nombre_album</th>\n",
       "      <th>año</th>\n",
       "      <th>genre</th>\n",
       "    </tr>\n",
       "  </thead>\n",
       "  <tbody>\n",
       "    <tr>\n",
       "      <th>0</th>\n",
       "      <td>Tory Lanez</td>\n",
       "      <td>track</td>\n",
       "      <td>The Color Violet</td>\n",
       "      <td>Alone At Prom</td>\n",
       "      <td>2021</td>\n",
       "      <td>pop</td>\n",
       "    </tr>\n",
       "    <tr>\n",
       "      <th>1</th>\n",
       "      <td>PinkPantheress</td>\n",
       "      <td>track</td>\n",
       "      <td>Pain</td>\n",
       "      <td>to hell with it</td>\n",
       "      <td>2021</td>\n",
       "      <td>pop</td>\n",
       "    </tr>\n",
       "    <tr>\n",
       "      <th>2</th>\n",
       "      <td>Eyedress</td>\n",
       "      <td>track</td>\n",
       "      <td>Something About You</td>\n",
       "      <td>Mulholland Drive</td>\n",
       "      <td>2021</td>\n",
       "      <td>pop</td>\n",
       "    </tr>\n",
       "    <tr>\n",
       "      <th>3</th>\n",
       "      <td>Jordana</td>\n",
       "      <td>track</td>\n",
       "      <td>Better in the Dark</td>\n",
       "      <td>Summer's Over</td>\n",
       "      <td>2021</td>\n",
       "      <td>pop</td>\n",
       "    </tr>\n",
       "    <tr>\n",
       "      <th>4</th>\n",
       "      <td>Tate McRae</td>\n",
       "      <td>track</td>\n",
       "      <td>you broke me first</td>\n",
       "      <td>TOO YOUNG TO BE SAD</td>\n",
       "      <td>2021</td>\n",
       "      <td>pop</td>\n",
       "    </tr>\n",
       "  </tbody>\n",
       "</table>\n",
       "</div>"
      ],
      "text/plain": [
       "          artista   tipo       título_canción         nombre_album   año genre\n",
       "0      Tory Lanez  track     The Color Violet        Alone At Prom  2021   pop\n",
       "1  PinkPantheress  track                 Pain      to hell with it  2021   pop\n",
       "2        Eyedress  track  Something About You     Mulholland Drive  2021   pop\n",
       "3         Jordana  track   Better in the Dark        Summer's Over  2021   pop\n",
       "4      Tate McRae  track   you broke me first  TOO YOUNG TO BE SAD  2021   pop"
      ]
     },
     "execution_count": 15,
     "metadata": {},
     "output_type": "execute_result"
    }
   ],
   "source": [
    "data.head()"
   ]
  },
  {
   "cell_type": "markdown",
   "metadata": {},
   "source": [
    "Las siguientes extraciones son ejemplos de cómo las funciones sirven para cualquier año/s o artista/s que se le proporcione como parámetros"
   ]
  },
  {
   "cell_type": "code",
   "execution_count": 12,
   "metadata": {},
   "outputs": [],
   "source": [
    "info2 = extraccion_datos(['2020'], ['jazz'])"
   ]
  },
  {
   "cell_type": "code",
   "execution_count": 14,
   "metadata": {},
   "outputs": [],
   "source": [
    "data2 = filtrado_datos(info2, ['jazz'])"
   ]
  },
  {
   "cell_type": "code",
   "execution_count": 16,
   "metadata": {},
   "outputs": [
    {
     "data": {
      "text/html": [
       "<div>\n",
       "<style scoped>\n",
       "    .dataframe tbody tr th:only-of-type {\n",
       "        vertical-align: middle;\n",
       "    }\n",
       "\n",
       "    .dataframe tbody tr th {\n",
       "        vertical-align: top;\n",
       "    }\n",
       "\n",
       "    .dataframe thead th {\n",
       "        text-align: right;\n",
       "    }\n",
       "</style>\n",
       "<table border=\"1\" class=\"dataframe\">\n",
       "  <thead>\n",
       "    <tr style=\"text-align: right;\">\n",
       "      <th></th>\n",
       "      <th>artista</th>\n",
       "      <th>tipo</th>\n",
       "      <th>título_canción</th>\n",
       "      <th>nombre_album</th>\n",
       "      <th>año</th>\n",
       "      <th>genre</th>\n",
       "    </tr>\n",
       "  </thead>\n",
       "  <tbody>\n",
       "    <tr>\n",
       "      <th>0</th>\n",
       "      <td>Underground Canopy</td>\n",
       "      <td>track</td>\n",
       "      <td>Feelm Intermission</td>\n",
       "      <td>Bluestaeb and S. Fidelity Present Underground ...</td>\n",
       "      <td>2020</td>\n",
       "      <td>jazz</td>\n",
       "    </tr>\n",
       "    <tr>\n",
       "      <th>1</th>\n",
       "      <td>Vitamin String Quartet</td>\n",
       "      <td>track</td>\n",
       "      <td>Strange (feat. Hillary Smith)</td>\n",
       "      <td>Bridgerton (Covers from the Netflix Original S...</td>\n",
       "      <td>2020</td>\n",
       "      <td>jazz</td>\n",
       "    </tr>\n",
       "    <tr>\n",
       "      <th>2</th>\n",
       "      <td>Various Artists</td>\n",
       "      <td>track</td>\n",
       "      <td>It's All Right</td>\n",
       "      <td>Soul (Original Motion Picture Soundtrack)</td>\n",
       "      <td>2020</td>\n",
       "      <td>jazz</td>\n",
       "    </tr>\n",
       "    <tr>\n",
       "      <th>3</th>\n",
       "      <td>Tom Misch</td>\n",
       "      <td>track</td>\n",
       "      <td>Nightrider</td>\n",
       "      <td>What Kinda Music</td>\n",
       "      <td>2020</td>\n",
       "      <td>jazz</td>\n",
       "    </tr>\n",
       "    <tr>\n",
       "      <th>4</th>\n",
       "      <td>Erroll Garner</td>\n",
       "      <td>track</td>\n",
       "      <td>Misty - Remastered 2020</td>\n",
       "      <td>Gemini (Octave Remastered Series)</td>\n",
       "      <td>2020</td>\n",
       "      <td>jazz</td>\n",
       "    </tr>\n",
       "  </tbody>\n",
       "</table>\n",
       "</div>"
      ],
      "text/plain": [
       "                  artista   tipo                 título_canción  \\\n",
       "0      Underground Canopy  track             Feelm Intermission   \n",
       "1  Vitamin String Quartet  track  Strange (feat. Hillary Smith)   \n",
       "2         Various Artists  track                 It's All Right   \n",
       "3               Tom Misch  track                     Nightrider   \n",
       "4           Erroll Garner  track        Misty - Remastered 2020   \n",
       "\n",
       "                                        nombre_album   año genre  \n",
       "0  Bluestaeb and S. Fidelity Present Underground ...  2020  jazz  \n",
       "1  Bridgerton (Covers from the Netflix Original S...  2020  jazz  \n",
       "2          Soul (Original Motion Picture Soundtrack)  2020  jazz  \n",
       "3                                   What Kinda Music  2020  jazz  \n",
       "4                  Gemini (Octave Remastered Series)  2020  jazz  "
      ]
     },
     "execution_count": 16,
     "metadata": {},
     "output_type": "execute_result"
    }
   ],
   "source": [
    "data2.head()"
   ]
  },
  {
   "cell_type": "markdown",
   "metadata": {},
   "source": [
    "A partir de los datos filtrados, vamos a crear una lista de artistas que usaremos para la descarga de datos en Musicbrainz y Last FM"
   ]
  },
  {
   "cell_type": "code",
   "execution_count": 55,
   "metadata": {},
   "outputs": [
    {
     "data": {
      "text/html": [
       "<div>\n",
       "<style scoped>\n",
       "    .dataframe tbody tr th:only-of-type {\n",
       "        vertical-align: middle;\n",
       "    }\n",
       "\n",
       "    .dataframe tbody tr th {\n",
       "        vertical-align: top;\n",
       "    }\n",
       "\n",
       "    .dataframe thead th {\n",
       "        text-align: right;\n",
       "    }\n",
       "</style>\n",
       "<table border=\"1\" class=\"dataframe\">\n",
       "  <thead>\n",
       "    <tr style=\"text-align: right;\">\n",
       "      <th></th>\n",
       "      <th>artista</th>\n",
       "    </tr>\n",
       "    <tr>\n",
       "      <th>id_artista</th>\n",
       "      <th></th>\n",
       "    </tr>\n",
       "  </thead>\n",
       "  <tbody>\n",
       "    <tr>\n",
       "      <th>0</th>\n",
       "      <td>Tory Lanez</td>\n",
       "    </tr>\n",
       "    <tr>\n",
       "      <th>1</th>\n",
       "      <td>PinkPantheress</td>\n",
       "    </tr>\n",
       "    <tr>\n",
       "      <th>2</th>\n",
       "      <td>Eyedress</td>\n",
       "    </tr>\n",
       "    <tr>\n",
       "      <th>3</th>\n",
       "      <td>Jordana</td>\n",
       "    </tr>\n",
       "    <tr>\n",
       "      <th>4</th>\n",
       "      <td>Tate McRae</td>\n",
       "    </tr>\n",
       "    <tr>\n",
       "      <th>...</th>\n",
       "      <td>...</td>\n",
       "    </tr>\n",
       "    <tr>\n",
       "      <th>1888</th>\n",
       "      <td>Fat Nick</td>\n",
       "    </tr>\n",
       "    <tr>\n",
       "      <th>1889</th>\n",
       "      <td>Mighty Bay</td>\n",
       "    </tr>\n",
       "    <tr>\n",
       "      <th>1890</th>\n",
       "      <td>xaviersobased</td>\n",
       "    </tr>\n",
       "    <tr>\n",
       "      <th>1891</th>\n",
       "      <td>Adan JFW</td>\n",
       "    </tr>\n",
       "    <tr>\n",
       "      <th>1892</th>\n",
       "      <td>Vin Jay</td>\n",
       "    </tr>\n",
       "  </tbody>\n",
       "</table>\n",
       "<p>1893 rows × 1 columns</p>\n",
       "</div>"
      ],
      "text/plain": [
       "                   artista\n",
       "id_artista                \n",
       "0               Tory Lanez\n",
       "1           PinkPantheress\n",
       "2                 Eyedress\n",
       "3                  Jordana\n",
       "4               Tate McRae\n",
       "...                    ...\n",
       "1888              Fat Nick\n",
       "1889            Mighty Bay\n",
       "1890         xaviersobased\n",
       "1891              Adan JFW\n",
       "1892               Vin Jay\n",
       "\n",
       "[1893 rows x 1 columns]"
      ]
     },
     "execution_count": 55,
     "metadata": {},
     "output_type": "execute_result"
    }
   ],
   "source": [
    "# De 'data' sacamos sólo el artista y lo convertimos en un set, para que no aparezcan\n",
    "# duplicados de nombres de artistas\n",
    "lista_artistas = pd.unique(data['artista'])\n",
    "\n",
    "# Y, con los resultados, hacemos un DataFrame al que vamos a poner nombre a las columnas\n",
    "artistas_spotify = pd.DataFrame(lista_artistas, columns=['artista'])\n",
    "\n",
    "# Vamos a dar nombre a la columna id\n",
    "artistas_spotify.index.name = 'id_artista'\n",
    "# Ahora tenemos un lista de artistas con su id_único\n",
    "artistas_spotify\n"
   ]
  },
  {
   "cell_type": "markdown",
   "metadata": {},
   "source": [
    "Vamos a hacer que data herede el id del artista que hemos conseguido en artistas_spotify"
   ]
  },
  {
   "cell_type": "code",
   "execution_count": null,
   "metadata": {},
   "outputs": [],
   "source": [
    "for artista in data['artista']: ###########NO FUNCIONA###############\n",
    "        if artista in artistas_spotify['artista']:\n",
    "                id = data ['id_artista'].index(artistas_spotify['id_artista'])\n",
    "                data['id_artista'].append([id])"
   ]
  },
  {
   "cell_type": "code",
   "execution_count": 28,
   "metadata": {},
   "outputs": [
    {
     "data": {
      "text/html": [
       "<div>\n",
       "<style scoped>\n",
       "    .dataframe tbody tr th:only-of-type {\n",
       "        vertical-align: middle;\n",
       "    }\n",
       "\n",
       "    .dataframe tbody tr th {\n",
       "        vertical-align: top;\n",
       "    }\n",
       "\n",
       "    .dataframe thead th {\n",
       "        text-align: right;\n",
       "    }\n",
       "</style>\n",
       "<table border=\"1\" class=\"dataframe\">\n",
       "  <thead>\n",
       "    <tr style=\"text-align: right;\">\n",
       "      <th></th>\n",
       "      <th>artista</th>\n",
       "      <th>tipo</th>\n",
       "      <th>título_canción</th>\n",
       "      <th>nombre_album</th>\n",
       "      <th>año</th>\n",
       "      <th>genre</th>\n",
       "    </tr>\n",
       "  </thead>\n",
       "  <tbody>\n",
       "    <tr>\n",
       "      <th>0</th>\n",
       "      <td>Tory Lanez</td>\n",
       "      <td>track</td>\n",
       "      <td>The Color Violet</td>\n",
       "      <td>Alone At Prom</td>\n",
       "      <td>2021</td>\n",
       "      <td>pop</td>\n",
       "    </tr>\n",
       "    <tr>\n",
       "      <th>1</th>\n",
       "      <td>PinkPantheress</td>\n",
       "      <td>track</td>\n",
       "      <td>Pain</td>\n",
       "      <td>to hell with it</td>\n",
       "      <td>2021</td>\n",
       "      <td>pop</td>\n",
       "    </tr>\n",
       "    <tr>\n",
       "      <th>2</th>\n",
       "      <td>Eyedress</td>\n",
       "      <td>track</td>\n",
       "      <td>Something About You</td>\n",
       "      <td>Mulholland Drive</td>\n",
       "      <td>2021</td>\n",
       "      <td>pop</td>\n",
       "    </tr>\n",
       "    <tr>\n",
       "      <th>3</th>\n",
       "      <td>Jordana</td>\n",
       "      <td>track</td>\n",
       "      <td>Better in the Dark</td>\n",
       "      <td>Summer's Over</td>\n",
       "      <td>2021</td>\n",
       "      <td>pop</td>\n",
       "    </tr>\n",
       "    <tr>\n",
       "      <th>4</th>\n",
       "      <td>Tate McRae</td>\n",
       "      <td>track</td>\n",
       "      <td>you broke me first</td>\n",
       "      <td>TOO YOUNG TO BE SAD</td>\n",
       "      <td>2021</td>\n",
       "      <td>pop</td>\n",
       "    </tr>\n",
       "    <tr>\n",
       "      <th>...</th>\n",
       "      <td>...</td>\n",
       "      <td>...</td>\n",
       "      <td>...</td>\n",
       "      <td>...</td>\n",
       "      <td>...</td>\n",
       "      <td>...</td>\n",
       "    </tr>\n",
       "    <tr>\n",
       "      <th>7995</th>\n",
       "      <td>NAV</td>\n",
       "      <td>track</td>\n",
       "      <td>Dead Shot (with Lil Uzi Vert)</td>\n",
       "      <td>Demons Protected By Angels</td>\n",
       "      <td>2022</td>\n",
       "      <td>rap</td>\n",
       "    </tr>\n",
       "    <tr>\n",
       "      <th>7996</th>\n",
       "      <td>Vin Jay</td>\n",
       "      <td>track</td>\n",
       "      <td>Drop</td>\n",
       "      <td>Drop</td>\n",
       "      <td>2022</td>\n",
       "      <td>rap</td>\n",
       "    </tr>\n",
       "    <tr>\n",
       "      <th>7997</th>\n",
       "      <td>Destroy Lonely</td>\n",
       "      <td>track</td>\n",
       "      <td>MKEITSTOP</td>\n",
       "      <td>NO STYLIST</td>\n",
       "      <td>2022</td>\n",
       "      <td>rap</td>\n",
       "    </tr>\n",
       "    <tr>\n",
       "      <th>7998</th>\n",
       "      <td>Young Dolph</td>\n",
       "      <td>track</td>\n",
       "      <td>Love For The Streets</td>\n",
       "      <td>Paper Route Frank</td>\n",
       "      <td>2022</td>\n",
       "      <td>rap</td>\n",
       "    </tr>\n",
       "    <tr>\n",
       "      <th>7999</th>\n",
       "      <td>Lil Poppa</td>\n",
       "      <td>track</td>\n",
       "      <td>Feenin’</td>\n",
       "      <td>Under Investigation 3</td>\n",
       "      <td>2022</td>\n",
       "      <td>rap</td>\n",
       "    </tr>\n",
       "  </tbody>\n",
       "</table>\n",
       "<p>8000 rows × 6 columns</p>\n",
       "</div>"
      ],
      "text/plain": [
       "             artista   tipo                 título_canción  \\\n",
       "0         Tory Lanez  track               The Color Violet   \n",
       "1     PinkPantheress  track                           Pain   \n",
       "2           Eyedress  track            Something About You   \n",
       "3            Jordana  track             Better in the Dark   \n",
       "4         Tate McRae  track             you broke me first   \n",
       "...              ...    ...                            ...   \n",
       "7995             NAV  track  Dead Shot (with Lil Uzi Vert)   \n",
       "7996         Vin Jay  track                           Drop   \n",
       "7997  Destroy Lonely  track                      MKEITSTOP   \n",
       "7998     Young Dolph  track           Love For The Streets   \n",
       "7999       Lil Poppa  track                        Feenin’   \n",
       "\n",
       "                    nombre_album   año genre  \n",
       "0                  Alone At Prom  2021   pop  \n",
       "1                to hell with it  2021   pop  \n",
       "2               Mulholland Drive  2021   pop  \n",
       "3                  Summer's Over  2021   pop  \n",
       "4            TOO YOUNG TO BE SAD  2021   pop  \n",
       "...                          ...   ...   ...  \n",
       "7995  Demons Protected By Angels  2022   rap  \n",
       "7996                        Drop  2022   rap  \n",
       "7997                  NO STYLIST  2022   rap  \n",
       "7998           Paper Route Frank  2022   rap  \n",
       "7999       Under Investigation 3  2022   rap  \n",
       "\n",
       "[8000 rows x 6 columns]"
      ]
     },
     "execution_count": 28,
     "metadata": {},
     "output_type": "execute_result"
    }
   ],
   "source": [
    "data"
   ]
  },
  {
   "cell_type": "code",
   "execution_count": null,
   "metadata": {},
   "outputs": [
    {
     "data": {
      "text/plain": [
       "[]"
      ]
     },
     "execution_count": 18,
     "metadata": {},
     "output_type": "execute_result"
    }
   ],
   "source": [
    "id_artistas = [] ##########NO FUNCIONA##############\n",
    "for artista in data['artista']:\n",
    "    if artista in artistas_spotify['artista']:\n",
    "        # Obtener el índice del artista en lista_artistas\n",
    "        index = lista_artistas['artista'].index(artista)\n",
    "        id_artistas.append(artistas_spotify['id_artista'][index])\n",
    "id_artistas\n",
    "######### Luego habría que añadir esta lista a data ##############"
   ]
  },
  {
   "cell_type": "code",
   "execution_count": null,
   "metadata": {},
   "outputs": [
    {
     "ename": "KeyError",
     "evalue": "'id_artista'",
     "output_type": "error",
     "traceback": [
      "\u001b[1;31m---------------------------------------------------------------------------\u001b[0m",
      "\u001b[1;31mKeyError\u001b[0m                                  Traceback (most recent call last)",
      "File \u001b[1;32mc:\\Users\\Usuario\\AppData\\Local\\Programs\\Python\\Python312\\Lib\\site-packages\\pandas\\core\\indexes\\base.py:3805\u001b[0m, in \u001b[0;36mIndex.get_loc\u001b[1;34m(self, key)\u001b[0m\n\u001b[0;32m   3804\u001b[0m \u001b[38;5;28;01mtry\u001b[39;00m:\n\u001b[1;32m-> 3805\u001b[0m     \u001b[38;5;28;01mreturn\u001b[39;00m \u001b[38;5;28;43mself\u001b[39;49m\u001b[38;5;241;43m.\u001b[39;49m\u001b[43m_engine\u001b[49m\u001b[38;5;241;43m.\u001b[39;49m\u001b[43mget_loc\u001b[49m\u001b[43m(\u001b[49m\u001b[43mcasted_key\u001b[49m\u001b[43m)\u001b[49m\n\u001b[0;32m   3806\u001b[0m \u001b[38;5;28;01mexcept\u001b[39;00m \u001b[38;5;167;01mKeyError\u001b[39;00m \u001b[38;5;28;01mas\u001b[39;00m err:\n",
      "File \u001b[1;32mindex.pyx:167\u001b[0m, in \u001b[0;36mpandas._libs.index.IndexEngine.get_loc\u001b[1;34m()\u001b[0m\n",
      "File \u001b[1;32mindex.pyx:196\u001b[0m, in \u001b[0;36mpandas._libs.index.IndexEngine.get_loc\u001b[1;34m()\u001b[0m\n",
      "File \u001b[1;32mpandas\\\\_libs\\\\hashtable_class_helper.pxi:7081\u001b[0m, in \u001b[0;36mpandas._libs.hashtable.PyObjectHashTable.get_item\u001b[1;34m()\u001b[0m\n",
      "File \u001b[1;32mpandas\\\\_libs\\\\hashtable_class_helper.pxi:7089\u001b[0m, in \u001b[0;36mpandas._libs.hashtable.PyObjectHashTable.get_item\u001b[1;34m()\u001b[0m\n",
      "\u001b[1;31mKeyError\u001b[0m: 'id_artista'",
      "\nThe above exception was the direct cause of the following exception:\n",
      "\u001b[1;31mKeyError\u001b[0m                                  Traceback (most recent call last)",
      "Cell \u001b[1;32mIn[49], line 7\u001b[0m\n\u001b[0;32m      3\u001b[0m \u001b[38;5;28;01mfor\u001b[39;00m \u001b[38;5;28mid\u001b[39m \u001b[38;5;129;01min\u001b[39;00m artistas_spotify[\u001b[38;5;124m'\u001b[39m\u001b[38;5;124martista\u001b[39m\u001b[38;5;124m'\u001b[39m]:\n\u001b[0;32m      4\u001b[0m         \u001b[38;5;28;01mif\u001b[39;00m artist  \u001b[38;5;241m==\u001b[39m \u001b[38;5;28mid\u001b[39m:\n\u001b[0;32m      5\u001b[0m         \u001b[38;5;66;03m#for id in artistas_spotify['artista'] == artist:\u001b[39;00m\n\u001b[1;32m----> 7\u001b[0m                         spotify[\u001b[38;5;124m'\u001b[39m\u001b[38;5;124mid_artista\u001b[39m\u001b[38;5;124m'\u001b[39m]\u001b[38;5;241m.\u001b[39mappend(\u001b[43martistas_spotify\u001b[49m\u001b[43m[\u001b[49m\u001b[38;5;124;43m'\u001b[39;49m\u001b[38;5;124;43mid_artista\u001b[39;49m\u001b[38;5;124;43m'\u001b[39;49m\u001b[43m]\u001b[49m)\n\u001b[0;32m      8\u001b[0m                         spotify[\u001b[38;5;124m\"\u001b[39m\u001b[38;5;124martista\u001b[39m\u001b[38;5;124m\"\u001b[39m]\u001b[38;5;241m.\u001b[39mappend(data[\u001b[38;5;124m\"\u001b[39m\u001b[38;5;124martista\u001b[39m\u001b[38;5;124m\"\u001b[39m])\n\u001b[0;32m      9\u001b[0m                         spotify[\u001b[38;5;124m\"\u001b[39m\u001b[38;5;124mtipo\u001b[39m\u001b[38;5;124m\"\u001b[39m]\u001b[38;5;241m.\u001b[39mappend(data[\u001b[38;5;124m\"\u001b[39m\u001b[38;5;124mtipo\u001b[39m\u001b[38;5;124m\"\u001b[39m])\n",
      "File \u001b[1;32mc:\\Users\\Usuario\\AppData\\Local\\Programs\\Python\\Python312\\Lib\\site-packages\\pandas\\core\\frame.py:4102\u001b[0m, in \u001b[0;36mDataFrame.__getitem__\u001b[1;34m(self, key)\u001b[0m\n\u001b[0;32m   4100\u001b[0m \u001b[38;5;28;01mif\u001b[39;00m \u001b[38;5;28mself\u001b[39m\u001b[38;5;241m.\u001b[39mcolumns\u001b[38;5;241m.\u001b[39mnlevels \u001b[38;5;241m>\u001b[39m \u001b[38;5;241m1\u001b[39m:\n\u001b[0;32m   4101\u001b[0m     \u001b[38;5;28;01mreturn\u001b[39;00m \u001b[38;5;28mself\u001b[39m\u001b[38;5;241m.\u001b[39m_getitem_multilevel(key)\n\u001b[1;32m-> 4102\u001b[0m indexer \u001b[38;5;241m=\u001b[39m \u001b[38;5;28;43mself\u001b[39;49m\u001b[38;5;241;43m.\u001b[39;49m\u001b[43mcolumns\u001b[49m\u001b[38;5;241;43m.\u001b[39;49m\u001b[43mget_loc\u001b[49m\u001b[43m(\u001b[49m\u001b[43mkey\u001b[49m\u001b[43m)\u001b[49m\n\u001b[0;32m   4103\u001b[0m \u001b[38;5;28;01mif\u001b[39;00m is_integer(indexer):\n\u001b[0;32m   4104\u001b[0m     indexer \u001b[38;5;241m=\u001b[39m [indexer]\n",
      "File \u001b[1;32mc:\\Users\\Usuario\\AppData\\Local\\Programs\\Python\\Python312\\Lib\\site-packages\\pandas\\core\\indexes\\base.py:3812\u001b[0m, in \u001b[0;36mIndex.get_loc\u001b[1;34m(self, key)\u001b[0m\n\u001b[0;32m   3807\u001b[0m     \u001b[38;5;28;01mif\u001b[39;00m \u001b[38;5;28misinstance\u001b[39m(casted_key, \u001b[38;5;28mslice\u001b[39m) \u001b[38;5;129;01mor\u001b[39;00m (\n\u001b[0;32m   3808\u001b[0m         \u001b[38;5;28misinstance\u001b[39m(casted_key, abc\u001b[38;5;241m.\u001b[39mIterable)\n\u001b[0;32m   3809\u001b[0m         \u001b[38;5;129;01mand\u001b[39;00m \u001b[38;5;28many\u001b[39m(\u001b[38;5;28misinstance\u001b[39m(x, \u001b[38;5;28mslice\u001b[39m) \u001b[38;5;28;01mfor\u001b[39;00m x \u001b[38;5;129;01min\u001b[39;00m casted_key)\n\u001b[0;32m   3810\u001b[0m     ):\n\u001b[0;32m   3811\u001b[0m         \u001b[38;5;28;01mraise\u001b[39;00m InvalidIndexError(key)\n\u001b[1;32m-> 3812\u001b[0m     \u001b[38;5;28;01mraise\u001b[39;00m \u001b[38;5;167;01mKeyError\u001b[39;00m(key) \u001b[38;5;28;01mfrom\u001b[39;00m \u001b[38;5;21;01merr\u001b[39;00m\n\u001b[0;32m   3813\u001b[0m \u001b[38;5;28;01mexcept\u001b[39;00m \u001b[38;5;167;01mTypeError\u001b[39;00m:\n\u001b[0;32m   3814\u001b[0m     \u001b[38;5;66;03m# If we have a listlike key, _check_indexing_error will raise\u001b[39;00m\n\u001b[0;32m   3815\u001b[0m     \u001b[38;5;66;03m#  InvalidIndexError. Otherwise we fall through and re-raise\u001b[39;00m\n\u001b[0;32m   3816\u001b[0m     \u001b[38;5;66;03m#  the TypeError.\u001b[39;00m\n\u001b[0;32m   3817\u001b[0m     \u001b[38;5;28mself\u001b[39m\u001b[38;5;241m.\u001b[39m_check_indexing_error(key)\n",
      "\u001b[1;31mKeyError\u001b[0m: 'id_artista'"
     ]
    }
   ],
   "source": [
    "############# no da ningún dato #######################\n",
    "spotify = {\"id_artista\":[], \"artista\": [], \"tipo\": [], \"título_canción\": [], \"nombre_album\": [], \"año\": [], 'genero': []}\n",
    "for artist in data['artista']:\n",
    "        for id in artistas_spotify['artista']:\n",
    "                if artist  == id:\n",
    "                #for id in artistas_spotify['artista'] == artist:\n",
    "                     \n",
    "                                spotify['id_artista'].append(artistas_spotify['id_artista'])\n",
    "                                spotify[\"artista\"].append(data[\"artista\"])\n",
    "                                spotify[\"tipo\"].append(data[\"tipo\"])\n",
    "                                spotify[\"título_canción\"].append(data[\"título_canción\"])\n",
    "                                spotify[\"nombre_album\"].append(data[\"nombre_album\"])\n",
    "                                spotify[\"año\"].append(data[\"año\"])\n",
    "                                spotify['genero'].append(data['genre'])\n",
    "                                "
   ]
  },
  {
   "cell_type": "code",
   "execution_count": 45,
   "metadata": {},
   "outputs": [
    {
     "data": {
      "text/plain": [
       "{'id_artista': [],\n",
       " 'artista': [],\n",
       " 'tipo': [],\n",
       " 'título_canción': [],\n",
       " 'nombre_album': [],\n",
       " 'año': [],\n",
       " 'genero': []}"
      ]
     },
     "execution_count": 45,
     "metadata": {},
     "output_type": "execute_result"
    }
   ],
   "source": [
    "spotify"
   ]
  },
  {
   "cell_type": "code",
   "execution_count": null,
   "metadata": {},
   "outputs": [],
   "source": [
    "# Luego habría que hacer lo mismo que con lista_artistas. Añadir el id que da el DataFrame\n"
   ]
  },
  {
   "cell_type": "code",
   "execution_count": null,
   "metadata": {},
   "outputs": [],
   "source": [
    "## Y si uso el csv?? "
   ]
  }
 ],
 "metadata": {
  "kernelspec": {
   "display_name": "Python 3",
   "language": "python",
   "name": "python3"
  },
  "language_info": {
   "codemirror_mode": {
    "name": "ipython",
    "version": 3
   },
   "file_extension": ".py",
   "mimetype": "text/x-python",
   "name": "python",
   "nbconvert_exporter": "python",
   "pygments_lexer": "ipython3",
   "version": "3.12.6"
  }
 },
 "nbformat": 4,
 "nbformat_minor": 2
}
