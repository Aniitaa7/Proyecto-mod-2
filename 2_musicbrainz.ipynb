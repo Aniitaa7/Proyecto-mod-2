{
 "cells": [
  {
   "cell_type": "code",
   "execution_count": 3,
   "metadata": {},
   "outputs": [],
   "source": [
    "import requests\n",
    "\n",
    "import pandas as pd\n",
    "# !pip install musicbrainzngs\n"
   ]
  },
  {
   "cell_type": "code",
   "execution_count": 4,
   "metadata": {},
   "outputs": [],
   "source": [
    "import json"
   ]
  },
  {
   "cell_type": "code",
   "execution_count": 5,
   "metadata": {},
   "outputs": [],
   "source": [
    "import csv"
   ]
  },
  {
   "cell_type": "code",
   "execution_count": 39,
   "metadata": {},
   "outputs": [],
   "source": [
    "df_lista_artistas = pd.read_csv('lista_artistas.csv')\n",
    "\n",
    "artistas = list(df_lista_artistas['0'])"
   ]
  },
  {
   "cell_type": "code",
   "execution_count": 45,
   "metadata": {},
   "outputs": [],
   "source": [
    "url = f'https://musicbrainz.org/ws/2/artist/?query={'Maneskin'}&fmt=json'"
   ]
  },
  {
   "cell_type": "code",
   "execution_count": 50,
   "metadata": {},
   "outputs": [
    {
     "ename": "IndexError",
     "evalue": "list index out of range",
     "output_type": "error",
     "traceback": [
      "\u001b[1;31m---------------------------------------------------------------------------\u001b[0m",
      "\u001b[1;31mIndexError\u001b[0m                                Traceback (most recent call last)",
      "Cell \u001b[1;32mIn[50], line 10\u001b[0m\n\u001b[0;32m      7\u001b[0m data \u001b[38;5;241m=\u001b[39m datos_artista\u001b[38;5;241m.\u001b[39mjson()\n\u001b[0;32m      9\u001b[0m \u001b[38;5;28;01mtry\u001b[39;00m:\n\u001b[1;32m---> 10\u001b[0m     nombre_artista \u001b[38;5;241m=\u001b[39m data[\u001b[38;5;124m'\u001b[39m\u001b[38;5;124martists\u001b[39m\u001b[38;5;124m'\u001b[39m][\u001b[38;5;241m0\u001b[39m][\u001b[38;5;124m'\u001b[39m\u001b[38;5;124mname\u001b[39m\u001b[38;5;124m'\u001b[39m]\n\u001b[0;32m     11\u001b[0m     info_artistas[\u001b[38;5;124m'\u001b[39m\u001b[38;5;124mNombre\u001b[39m\u001b[38;5;124m'\u001b[39m]\u001b[38;5;241m.\u001b[39mappend(nombre_artista)\n\u001b[0;32m     12\u001b[0m \u001b[38;5;28;01mexcept\u001b[39;00m \u001b[38;5;167;01mKeyError\u001b[39;00m:\n",
      "\u001b[1;31mIndexError\u001b[0m: list index out of range"
     ]
    }
   ],
   "source": [
    "info_artistas = {'Nombre':[], 'País de Origen':[], 'Área de Origen':[]}\n",
    "\n",
    "for artista in artistas:\n",
    "    url = f'https://musicbrainz.org/ws/2/artist/?query={artista}&fmt=json'\n",
    "    datos_artista = requests.get(url)\n",
    "    datos_artista.status_code\n",
    "    data = datos_artista.json()\n",
    "\n",
    "    try:\n",
    "        nombre_artista = data['artists'][0]['name']\n",
    "        info_artistas['Nombre'].append(nombre_artista)\n",
    "    except KeyError:\n",
    "        info_artistas['Nombre'].append('Error')\n",
    "\n",
    "    try:\n",
    "        pais_artista = data['artists'][0]['country']\n",
    "        info_artistas['País de Origen'].append(pais_artista)\n",
    "    except KeyError:\n",
    "        info_artistas['País de Origen'].append('Undefined')\n",
    "    \n",
    "    try:\n",
    "        area_artista = data['artists'][0]['begin-area']['name']\n",
    "        info_artistas['Área de Origen'].append(area_artista)\n",
    "    except KeyError:\n",
    "        info_artistas['Área de Origen'].append('Undefined')\n",
    "\n",
    "\n",
    "info_artistas"
   ]
  },
  {
   "cell_type": "code",
   "execution_count": 53,
   "metadata": {},
   "outputs": [
    {
     "data": {
      "text/html": [
       "<div>\n",
       "<style scoped>\n",
       "    .dataframe tbody tr th:only-of-type {\n",
       "        vertical-align: middle;\n",
       "    }\n",
       "\n",
       "    .dataframe tbody tr th {\n",
       "        vertical-align: top;\n",
       "    }\n",
       "\n",
       "    .dataframe thead th {\n",
       "        text-align: right;\n",
       "    }\n",
       "</style>\n",
       "<table border=\"1\" class=\"dataframe\">\n",
       "  <thead>\n",
       "    <tr style=\"text-align: right;\">\n",
       "      <th></th>\n",
       "      <th>Nombre</th>\n",
       "      <th>País de Origen</th>\n",
       "      <th>Área de Origen</th>\n",
       "    </tr>\n",
       "  </thead>\n",
       "  <tbody>\n",
       "    <tr>\n",
       "      <th>0</th>\n",
       "      <td>Måneskin</td>\n",
       "      <td>IT</td>\n",
       "      <td>Roma</td>\n",
       "    </tr>\n",
       "    <tr>\n",
       "      <th>1</th>\n",
       "      <td>Elton John</td>\n",
       "      <td>GB</td>\n",
       "      <td>Pinner</td>\n",
       "    </tr>\n",
       "    <tr>\n",
       "      <th>2</th>\n",
       "      <td>Parmalee</td>\n",
       "      <td>US</td>\n",
       "      <td>Undefined</td>\n",
       "    </tr>\n",
       "    <tr>\n",
       "      <th>3</th>\n",
       "      <td>Thomas Rhett</td>\n",
       "      <td>US</td>\n",
       "      <td>Valdosta</td>\n",
       "    </tr>\n",
       "    <tr>\n",
       "      <th>4</th>\n",
       "      <td>OneRepublic</td>\n",
       "      <td>US</td>\n",
       "      <td>Colorado Springs</td>\n",
       "    </tr>\n",
       "    <tr>\n",
       "      <th>...</th>\n",
       "      <td>...</td>\n",
       "      <td>...</td>\n",
       "      <td>...</td>\n",
       "    </tr>\n",
       "    <tr>\n",
       "      <th>1703</th>\n",
       "      <td>Moxas</td>\n",
       "      <td>Undefined</td>\n",
       "      <td>Undefined</td>\n",
       "    </tr>\n",
       "    <tr>\n",
       "      <th>1704</th>\n",
       "      <td>Baby Stone Gorillas</td>\n",
       "      <td>Undefined</td>\n",
       "      <td>Undefined</td>\n",
       "    </tr>\n",
       "    <tr>\n",
       "      <th>1705</th>\n",
       "      <td>Softwilly</td>\n",
       "      <td>US</td>\n",
       "      <td>Undefined</td>\n",
       "    </tr>\n",
       "    <tr>\n",
       "      <th>1706</th>\n",
       "      <td>21 Savage</td>\n",
       "      <td>US</td>\n",
       "      <td>Plaistow</td>\n",
       "    </tr>\n",
       "    <tr>\n",
       "      <th>1707</th>\n",
       "      <td>XANAKIN SKYWOK</td>\n",
       "      <td>Undefined</td>\n",
       "      <td>Undefined</td>\n",
       "    </tr>\n",
       "  </tbody>\n",
       "</table>\n",
       "<p>1708 rows × 3 columns</p>\n",
       "</div>"
      ],
      "text/plain": [
       "                   Nombre País de Origen    Área de Origen\n",
       "0                Måneskin             IT              Roma\n",
       "1              Elton John             GB            Pinner\n",
       "2                Parmalee             US         Undefined\n",
       "3            Thomas Rhett             US          Valdosta\n",
       "4             OneRepublic             US  Colorado Springs\n",
       "...                   ...            ...               ...\n",
       "1703                Moxas      Undefined         Undefined\n",
       "1704  Baby Stone Gorillas      Undefined         Undefined\n",
       "1705            Softwilly             US         Undefined\n",
       "1706            21 Savage             US          Plaistow\n",
       "1707       XANAKIN SKYWOK      Undefined         Undefined\n",
       "\n",
       "[1708 rows x 3 columns]"
      ]
     },
     "execution_count": 53,
     "metadata": {},
     "output_type": "execute_result"
    }
   ],
   "source": [
    "df_info_artistas = pd.DataFrame(info_artistas)\n",
    "\n",
    "df_info_artistas"
   ]
  },
  {
   "cell_type": "code",
   "execution_count": 41,
   "metadata": {},
   "outputs": [
    {
     "data": {
      "text/plain": [
       "200"
      ]
     },
     "execution_count": 41,
     "metadata": {},
     "output_type": "execute_result"
    }
   ],
   "source": [
    "datos_artista = requests.get(url)\n",
    "datos_artista.status_code"
   ]
  },
  {
   "cell_type": "code",
   "execution_count": 42,
   "metadata": {},
   "outputs": [],
   "source": [
    "data = datos_artista.json()"
   ]
  },
  {
   "cell_type": "code",
   "execution_count": null,
   "metadata": {},
   "outputs": [],
   "source": [
    "data"
   ]
  },
  {
   "cell_type": "code",
   "execution_count": 48,
   "metadata": {},
   "outputs": [
    {
     "name": "stdout",
     "output_type": "stream",
     "text": [
      "Parmalee\n",
      "US\n"
     ]
    },
    {
     "data": {
      "text/plain": [
       "{'created': '2024-10-16T18:12:38.465Z',\n",
       " 'count': 2,\n",
       " 'offset': 0,\n",
       " 'artists': [{'id': '66980f96-2716-48e6-88c2-cbbb81b8e888',\n",
       "   'type': 'Group',\n",
       "   'type-id': 'e431f5f6-b5d2-343d-8b36-72607fffb74b',\n",
       "   'score': 100,\n",
       "   'name': 'Parmalee',\n",
       "   'sort-name': 'Parmalee',\n",
       "   'country': 'US',\n",
       "   'area': {'id': '489ce91b-6658-3307-9877-795b68554c98',\n",
       "    'type': 'Country',\n",
       "    'type-id': '06dd0ae4-8c74-30bb-b43d-95dcedf961de',\n",
       "    'name': 'United States',\n",
       "    'sort-name': 'United States',\n",
       "    'life-span': {'ended': None}},\n",
       "   'life-span': {'ended': None},\n",
       "   'tags': [{'count': 1, 'name': 'country'}]},\n",
       "  {'id': '702505cb-9412-4825-8d89-2990a0d42c38',\n",
       "   'type': 'Person',\n",
       "   'type-id': 'b6e035f4-3ce9-331c-97df-83397230b0df',\n",
       "   'score': 60,\n",
       "   'gender-id': '36d3d30a-839d-3eda-8cb3-29be4384e4a9',\n",
       "   'name': 'Matt Thomas',\n",
       "   'sort-name': 'Thomas, Matt',\n",
       "   'gender': 'male',\n",
       "   'country': 'US',\n",
       "   'area': {'id': '489ce91b-6658-3307-9877-795b68554c98',\n",
       "    'type': 'Country',\n",
       "    'type-id': '06dd0ae4-8c74-30bb-b43d-95dcedf961de',\n",
       "    'name': 'United States',\n",
       "    'sort-name': 'United States',\n",
       "    'life-span': {'ended': None}},\n",
       "   'disambiguation': 'Parmalee',\n",
       "   'ipis': ['00404432203'],\n",
       "   'life-span': {'ended': None}}]}"
      ]
     },
     "execution_count": 48,
     "metadata": {},
     "output_type": "execute_result"
    }
   ],
   "source": [
    "nombre_artista = data['artists'][0]['name']\n",
    "\n",
    "print(nombre_artista)\n",
    "\n",
    "pais_artista = data['artists'][0]['country']\n",
    "\n",
    "print(pais_artista)\n",
    "\n",
    "#area_artista = data['artists'][0]['begin-area']['name']\n",
    "\n",
    "#print(area_artista)\n",
    "\n",
    "#f_inicio_artista = data['artists'][0]['aliases'][0]['begin-date']\n",
    "\n",
    "data"
   ]
  }
 ],
 "metadata": {
  "kernelspec": {
   "display_name": "base",
   "language": "python",
   "name": "python3"
  },
  "language_info": {
   "codemirror_mode": {
    "name": "ipython",
    "version": 3
   },
   "file_extension": ".py",
   "mimetype": "text/x-python",
   "name": "python",
   "nbconvert_exporter": "python",
   "pygments_lexer": "ipython3",
   "version": "3.12.4"
  }
 },
 "nbformat": 4,
 "nbformat_minor": 2
}
