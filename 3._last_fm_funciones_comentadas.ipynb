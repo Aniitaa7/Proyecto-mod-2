{
 "cells": [
  {
   "cell_type": "code",
   "execution_count": 1,
   "metadata": {},
   "outputs": [
    {
     "name": "stdout",
     "output_type": "stream",
     "text": [
      "Requirement already satisfied: python-dotenv in /home/duran/anaconda3/lib/python3.12/site-packages (0.21.0)\n",
      "Note: you may need to restart the kernel to use updated packages.\n"
     ]
    }
   ],
   "source": [
    "# Para esconder las API´s keys\n",
    "pip install python-dotenv"
   ]
  },
  {
   "cell_type": "code",
   "execution_count": 2,
   "metadata": {},
   "outputs": [],
   "source": [
    "#·· HACEMOS LAS IMPORTACIONES NECESARIAS ..\n",
    "# Para hacer las llamadas a las API´s\n",
    "import requests\n",
    "# Para poder leer los ficheros csv y hacer DataFrames\n",
    "import pandas as pd\n",
    "# Configuración para poder visualizar todas las columnas de los DataFrames\n",
    "pd.set_option('display.max_columns', None) \n",
    "# Para hacer ficheros json\n",
    "import json\n",
    "# Para esconder la API key\n",
    "import os \n",
    "# Para esconder la API key\n",
    "from dotenv import load_dotenv"
   ]
  },
  {
   "cell_type": "code",
   "execution_count": 3,
   "metadata": {},
   "outputs": [],
   "source": [
    "# Leer el archivo env, que tiene las claves - pq las tenemos ocultas y lo guardamos en una variable\n",
    "load_dotenv()\n",
    "api_key = os.getenv(\"api_key_lastfm\")"
   ]
  },
  {
   "cell_type": "code",
   "execution_count": 21,
   "metadata": {},
   "outputs": [],
   "source": [
    "# Conversion de csv y llamada a la API\n",
    "def extraccion_datos (lista_csv):\n",
    "    datos_artistas = []\n",
    "    # Convertimos el csv que tenemos de Spotity con la lista solo de artistas\n",
    "    # Leemos el csv\n",
    "    df_lista_artistas = pd.read_csv(str(lista_csv))\n",
    "    # Lo convertimos en lista\n",
    "    artistas = list(df_lista_artistas['0'])\n",
    "    # Iteramos por cada artista de la lista Spotify para sacar sus datos en esta API\n",
    "    for artista in artistas:\n",
    "        url = f'http://ws.audioscrobbler.com/2.0/?method=artist.getinfo&artist={artista}&api_key={api_key}&format=json' \n",
    "        # Hacemos la llamada\n",
    "        datos_artista = requests.get(url)\n",
    "        # Guardamos los datos en formato json\n",
    "        datos = datos_artista.json()\n",
    "        datos_artistas.append(datos)\n",
    "    return datos_artistas"
   ]
  },
  {
   "cell_type": "code",
   "execution_count": 22,
   "metadata": {},
   "outputs": [],
   "source": [
    "# Llamamos a la función de extracción de datos\n",
    "datos_last_fm = extraccion_datos('lista_artistas_spotify.csv')"
   ]
  },
  {
   "cell_type": "code",
   "execution_count": 20,
   "metadata": {},
   "outputs": [
    {
     "data": {
      "text/plain": [
       "{'name': 'SadBoyProlific',\n",
       " 'url': 'https://www.last.fm/music/SadBoyProlific',\n",
       " 'image': [{'#text': 'https://lastfm.freetls.fastly.net/i/u/34s/2a96cbd8b46e442fc41c2b86b821562f.png',\n",
       "   'size': 'small'},\n",
       "  {'#text': 'https://lastfm.freetls.fastly.net/i/u/64s/2a96cbd8b46e442fc41c2b86b821562f.png',\n",
       "   'size': 'medium'},\n",
       "  {'#text': 'https://lastfm.freetls.fastly.net/i/u/174s/2a96cbd8b46e442fc41c2b86b821562f.png',\n",
       "   'size': 'large'},\n",
       "  {'#text': 'https://lastfm.freetls.fastly.net/i/u/300x300/2a96cbd8b46e442fc41c2b86b821562f.png',\n",
       "   'size': 'extralarge'},\n",
       "  {'#text': 'https://lastfm.freetls.fastly.net/i/u/300x300/2a96cbd8b46e442fc41c2b86b821562f.png',\n",
       "   'size': 'mega'},\n",
       "  {'#text': 'https://lastfm.freetls.fastly.net/i/u/300x300/2a96cbd8b46e442fc41c2b86b821562f.png',\n",
       "   'size': ''}],\n",
       " 'streamable': '0',\n",
       " 'ontour': '0',\n",
       " 'stats': {'listeners': '223863', 'playcount': '6295863'},\n",
       " 'similar': {'artist': [{'name': 'Rxseboy',\n",
       "    'url': 'https://www.last.fm/music/Rxseboy',\n",
       "    'image': [{'#text': 'https://lastfm.freetls.fastly.net/i/u/34s/2a96cbd8b46e442fc41c2b86b821562f.png',\n",
       "      'size': 'small'},\n",
       "     {'#text': 'https://lastfm.freetls.fastly.net/i/u/64s/2a96cbd8b46e442fc41c2b86b821562f.png',\n",
       "      'size': 'medium'},\n",
       "     {'#text': 'https://lastfm.freetls.fastly.net/i/u/174s/2a96cbd8b46e442fc41c2b86b821562f.png',\n",
       "      'size': 'large'},\n",
       "     {'#text': 'https://lastfm.freetls.fastly.net/i/u/300x300/2a96cbd8b46e442fc41c2b86b821562f.png',\n",
       "      'size': 'extralarge'},\n",
       "     {'#text': 'https://lastfm.freetls.fastly.net/i/u/300x300/2a96cbd8b46e442fc41c2b86b821562f.png',\n",
       "      'size': 'mega'},\n",
       "     {'#text': 'https://lastfm.freetls.fastly.net/i/u/300x300/2a96cbd8b46e442fc41c2b86b821562f.png',\n",
       "      'size': ''}]},\n",
       "   {'name': 'Powfu',\n",
       "    'url': 'https://www.last.fm/music/Powfu',\n",
       "    'image': [{'#text': 'https://lastfm.freetls.fastly.net/i/u/34s/2a96cbd8b46e442fc41c2b86b821562f.png',\n",
       "      'size': 'small'},\n",
       "     {'#text': 'https://lastfm.freetls.fastly.net/i/u/64s/2a96cbd8b46e442fc41c2b86b821562f.png',\n",
       "      'size': 'medium'},\n",
       "     {'#text': 'https://lastfm.freetls.fastly.net/i/u/174s/2a96cbd8b46e442fc41c2b86b821562f.png',\n",
       "      'size': 'large'},\n",
       "     {'#text': 'https://lastfm.freetls.fastly.net/i/u/300x300/2a96cbd8b46e442fc41c2b86b821562f.png',\n",
       "      'size': 'extralarge'},\n",
       "     {'#text': 'https://lastfm.freetls.fastly.net/i/u/300x300/2a96cbd8b46e442fc41c2b86b821562f.png',\n",
       "      'size': 'mega'},\n",
       "     {'#text': 'https://lastfm.freetls.fastly.net/i/u/300x300/2a96cbd8b46e442fc41c2b86b821562f.png',\n",
       "      'size': ''}]},\n",
       "   {'name': 'Lund',\n",
       "    'url': 'https://www.last.fm/music/Lund',\n",
       "    'image': [{'#text': 'https://lastfm.freetls.fastly.net/i/u/34s/2a96cbd8b46e442fc41c2b86b821562f.png',\n",
       "      'size': 'small'},\n",
       "     {'#text': 'https://lastfm.freetls.fastly.net/i/u/64s/2a96cbd8b46e442fc41c2b86b821562f.png',\n",
       "      'size': 'medium'},\n",
       "     {'#text': 'https://lastfm.freetls.fastly.net/i/u/174s/2a96cbd8b46e442fc41c2b86b821562f.png',\n",
       "      'size': 'large'},\n",
       "     {'#text': 'https://lastfm.freetls.fastly.net/i/u/300x300/2a96cbd8b46e442fc41c2b86b821562f.png',\n",
       "      'size': 'extralarge'},\n",
       "     {'#text': 'https://lastfm.freetls.fastly.net/i/u/300x300/2a96cbd8b46e442fc41c2b86b821562f.png',\n",
       "      'size': 'mega'},\n",
       "     {'#text': 'https://lastfm.freetls.fastly.net/i/u/300x300/2a96cbd8b46e442fc41c2b86b821562f.png',\n",
       "      'size': ''}]},\n",
       "   {'name': 'Chri$tian Gate$',\n",
       "    'url': 'https://www.last.fm/music/Chri$tian+Gate$',\n",
       "    'image': [{'#text': 'https://lastfm.freetls.fastly.net/i/u/34s/2a96cbd8b46e442fc41c2b86b821562f.png',\n",
       "      'size': 'small'},\n",
       "     {'#text': 'https://lastfm.freetls.fastly.net/i/u/64s/2a96cbd8b46e442fc41c2b86b821562f.png',\n",
       "      'size': 'medium'},\n",
       "     {'#text': 'https://lastfm.freetls.fastly.net/i/u/174s/2a96cbd8b46e442fc41c2b86b821562f.png',\n",
       "      'size': 'large'},\n",
       "     {'#text': 'https://lastfm.freetls.fastly.net/i/u/300x300/2a96cbd8b46e442fc41c2b86b821562f.png',\n",
       "      'size': 'extralarge'},\n",
       "     {'#text': 'https://lastfm.freetls.fastly.net/i/u/300x300/2a96cbd8b46e442fc41c2b86b821562f.png',\n",
       "      'size': 'mega'},\n",
       "     {'#text': 'https://lastfm.freetls.fastly.net/i/u/300x300/2a96cbd8b46e442fc41c2b86b821562f.png',\n",
       "      'size': ''}]},\n",
       "   {'name': 'ilyTOMMY',\n",
       "    'url': 'https://www.last.fm/music/ilyTOMMY',\n",
       "    'image': [{'#text': 'https://lastfm.freetls.fastly.net/i/u/34s/2a96cbd8b46e442fc41c2b86b821562f.png',\n",
       "      'size': 'small'},\n",
       "     {'#text': 'https://lastfm.freetls.fastly.net/i/u/64s/2a96cbd8b46e442fc41c2b86b821562f.png',\n",
       "      'size': 'medium'},\n",
       "     {'#text': 'https://lastfm.freetls.fastly.net/i/u/174s/2a96cbd8b46e442fc41c2b86b821562f.png',\n",
       "      'size': 'large'},\n",
       "     {'#text': 'https://lastfm.freetls.fastly.net/i/u/300x300/2a96cbd8b46e442fc41c2b86b821562f.png',\n",
       "      'size': 'extralarge'},\n",
       "     {'#text': 'https://lastfm.freetls.fastly.net/i/u/300x300/2a96cbd8b46e442fc41c2b86b821562f.png',\n",
       "      'size': 'mega'},\n",
       "     {'#text': 'https://lastfm.freetls.fastly.net/i/u/300x300/2a96cbd8b46e442fc41c2b86b821562f.png',\n",
       "      'size': ''}]}]},\n",
       " 'tags': {'tag': [{'name': 'rap', 'url': 'https://www.last.fm/tag/rap'},\n",
       "   {'name': 'Hip-Hop', 'url': 'https://www.last.fm/tag/Hip-Hop'},\n",
       "   {'name': 'emo', 'url': 'https://www.last.fm/tag/emo'},\n",
       "   {'name': 'USA', 'url': 'https://www.last.fm/tag/USA'},\n",
       "   {'name': 'Lo-Fi', 'url': 'https://www.last.fm/tag/Lo-Fi'}]},\n",
       " 'bio': {'links': {'link': {'#text': '',\n",
       "    'rel': 'original',\n",
       "    'href': 'https://last.fm/music/SadBoyProlific/+wiki'}},\n",
       "  'published': '23 Aug 2021, 02:36',\n",
       "  'summary': 'SadBoyProlific is a 19-year-old rapper from Houston, Texas who first began releasing his music on his SoundCloud page, but has since released his music on popular streaming platforms like Spotify and Apple Music. His most listened to song is Dead And Cold with over 100 million streams on spotify. He also helped pioneer the \\'lofi rap\\' subgenre <a href=\"https://www.last.fm/music/SadBoyProlific\">Read more on Last.fm</a>',\n",
       "  'content': 'SadBoyProlific is a 19-year-old rapper from Houston, Texas who first began releasing his music on his SoundCloud page, but has since released his music on popular streaming platforms like Spotify and Apple Music. His most listened to song is Dead And Cold with over 100 million streams on spotify. He also helped pioneer the \\'lofi rap\\' subgenre <a href=\"https://www.last.fm/music/SadBoyProlific\">Read more on Last.fm</a>. User-contributed text is available under the Creative Commons By-SA License; additional terms may apply.'}}"
      ]
     },
     "execution_count": 20,
     "metadata": {},
     "output_type": "execute_result"
    }
   ],
   "source": [
    "datos_last_fm['artist']"
   ]
  },
  {
   "cell_type": "code",
   "execution_count": 26,
   "metadata": {},
   "outputs": [],
   "source": [
    "# Limpieza de datos\n",
    "# Recogemos los datos filtrados por los campos especificados en un archivo\n",
    "\n",
    "\n",
    "def filtrado_datos(datos): \n",
    "    info_artistas = {'Nombre':[],'Biografia':[], 'Listeners':[], 'Playcount':[], 'Artistas similares':[]}\n",
    "    # Iteramos por cada elemento recogido en data para sacar los resultados que necesitamos\n",
    "    for dato in datos: \n",
    "\n",
    "        # ponemos excepciones a los errores que nos van dando en el filtrado        \n",
    "        try:\n",
    "            info_artistas['Nombre'].append(dato['artist']['name'])\n",
    "        except KeyError:\n",
    "            continue\n",
    "        \n",
    "        info_artistas['Biografia'].append(dato['artist']['bio']['content'])\n",
    "        info_artistas['Listeners'].append(dato['artist']['stats']['listeners'])\n",
    "        info_artistas['Playcount'].append(dato['artist']['stats']['playcount'])\n",
    "\n",
    "        # Los artistas similares son varios: Los recogemos en una lista\n",
    "        art_similares = []\n",
    "        for name in dato['artist']['similar']['artist']:\n",
    "            art_similares.append(name['name'])\n",
    "        info_artistas['Artistas similares'].append(art_similares)\n",
    "    \n",
    "    df_concatenado =pd.DataFrame(info_artistas)\n",
    "    df_concatenado.to_csv('lastfm_df_concatenado.csv', index=False)\n",
    "    \n",
    "    return df_concatenado\n"
   ]
  },
  {
   "cell_type": "code",
   "execution_count": 27,
   "metadata": {},
   "outputs": [],
   "source": [
    "# Llamamos a la función que filtra los datos\n",
    "data = filtrado_datos(datos_last_fm)"
   ]
  },
  {
   "cell_type": "code",
   "execution_count": null,
   "metadata": {},
   "outputs": [],
   "source": [
    "data"
   ]
  }
 ],
 "metadata": {
  "kernelspec": {
   "display_name": "base",
   "language": "python",
   "name": "python3"
  },
  "language_info": {
   "codemirror_mode": {
    "name": "ipython",
    "version": 3
   },
   "file_extension": ".py",
   "mimetype": "text/x-python",
   "name": "python",
   "nbconvert_exporter": "python",
   "pygments_lexer": "ipython3",
   "version": "3.12.4"
  }
 },
 "nbformat": 4,
 "nbformat_minor": 2
}
